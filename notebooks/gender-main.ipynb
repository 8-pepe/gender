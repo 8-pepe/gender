{
 "cells": [
  {
   "cell_type": "code",
   "execution_count": 1,
   "id": "7422a5fe",
   "metadata": {},
   "outputs": [],
   "source": [
    "import pandas as pd\n",
    "import os"
   ]
  },
  {
   "cell_type": "markdown",
   "id": "6f7083bf",
   "metadata": {},
   "source": [
    "# Load Data"
   ]
  },
  {
   "cell_type": "code",
   "execution_count": 2,
   "id": "5a051597",
   "metadata": {},
   "outputs": [],
   "source": [
    "path = os.path.join(\"..\",\"raw_data\",\"wgnd_2_0_name-gender-code.csv\")"
   ]
  },
  {
   "cell_type": "code",
   "execution_count": 3,
   "id": "45e22208",
   "metadata": {},
   "outputs": [],
   "source": [
    "df = pd.read_csv(path)"
   ]
  },
  {
   "cell_type": "code",
   "execution_count": 4,
   "id": "91c4bc72",
   "metadata": {},
   "outputs": [
    {
     "data": {
      "text/html": [
       "<div>\n",
       "<style scoped>\n",
       "    .dataframe tbody tr th:only-of-type {\n",
       "        vertical-align: middle;\n",
       "    }\n",
       "\n",
       "    .dataframe tbody tr th {\n",
       "        vertical-align: top;\n",
       "    }\n",
       "\n",
       "    .dataframe thead th {\n",
       "        text-align: right;\n",
       "    }\n",
       "</style>\n",
       "<table border=\"1\" class=\"dataframe\">\n",
       "  <thead>\n",
       "    <tr style=\"text-align: right;\">\n",
       "      <th></th>\n",
       "      <th>name</th>\n",
       "      <th>code</th>\n",
       "      <th>gender</th>\n",
       "      <th>wgt</th>\n",
       "    </tr>\n",
       "  </thead>\n",
       "  <tbody>\n",
       "    <tr>\n",
       "      <th>0</th>\n",
       "      <td>\"baby\"</td>\n",
       "      <td>AU</td>\n",
       "      <td>F</td>\n",
       "      <td>1.0</td>\n",
       "    </tr>\n",
       "    <tr>\n",
       "      <th>1</th>\n",
       "      <td>'aisyah</td>\n",
       "      <td>AU</td>\n",
       "      <td>F</td>\n",
       "      <td>1.0</td>\n",
       "    </tr>\n",
       "    <tr>\n",
       "      <th>2</th>\n",
       "      <td>'anela</td>\n",
       "      <td>CA</td>\n",
       "      <td>F</td>\n",
       "      <td>1.0</td>\n",
       "    </tr>\n",
       "    <tr>\n",
       "      <th>3</th>\n",
       "      <td>'fiyinfoluwa</td>\n",
       "      <td>CA</td>\n",
       "      <td>F</td>\n",
       "      <td>1.0</td>\n",
       "    </tr>\n",
       "    <tr>\n",
       "      <th>4</th>\n",
       "      <td>'olioni</td>\n",
       "      <td>AU</td>\n",
       "      <td>M</td>\n",
       "      <td>1.0</td>\n",
       "    </tr>\n",
       "  </tbody>\n",
       "</table>\n",
       "</div>"
      ],
      "text/plain": [
       "           name code gender  wgt\n",
       "0        \"baby\"   AU      F  1.0\n",
       "1       'aisyah   AU      F  1.0\n",
       "2        'anela   CA      F  1.0\n",
       "3  'fiyinfoluwa   CA      F  1.0\n",
       "4       'olioni   AU      M  1.0"
      ]
     },
     "execution_count": 4,
     "metadata": {},
     "output_type": "execute_result"
    }
   ],
   "source": [
    "df.head()"
   ]
  },
  {
   "cell_type": "code",
   "execution_count": 5,
   "id": "57e2e448",
   "metadata": {},
   "outputs": [
    {
     "data": {
      "text/plain": [
       "M    2544944\n",
       "F    2032646\n",
       "?     392706\n",
       "Name: gender, dtype: int64"
      ]
     },
     "execution_count": 5,
     "metadata": {},
     "output_type": "execute_result"
    }
   ],
   "source": [
    "df[\"gender\"].value_counts()"
   ]
  },
  {
   "cell_type": "markdown",
   "id": "6415e95b",
   "metadata": {},
   "source": [
    "## Clean Data"
   ]
  },
  {
   "cell_type": "code",
   "execution_count": 6,
   "id": "df432705",
   "metadata": {},
   "outputs": [],
   "source": [
    "df = df[df[\"gender\"] !=\"?\"]"
   ]
  },
  {
   "cell_type": "code",
   "execution_count": 7,
   "id": "5fe27104",
   "metadata": {},
   "outputs": [
    {
     "data": {
      "text/plain": [
       "alexis              164\n",
       "marion              159\n",
       "florence            158\n",
       "sara                138\n",
       "lee                 137\n",
       "                   ... \n",
       "kurubal               1\n",
       "kurubala              1\n",
       "kurubalakkappaga      1\n",
       "kurubalakota          1\n",
       "凉翼                    1\n",
       "Name: name, Length: 3781203, dtype: int64"
      ]
     },
     "execution_count": 7,
     "metadata": {},
     "output_type": "execute_result"
    }
   ],
   "source": [
    "df[\"name\"].value_counts()"
   ]
  },
  {
   "cell_type": "code",
   "execution_count": 8,
   "id": "49a8e831",
   "metadata": {},
   "outputs": [
    {
     "data": {
      "text/html": [
       "<div>\n",
       "<style scoped>\n",
       "    .dataframe tbody tr th:only-of-type {\n",
       "        vertical-align: middle;\n",
       "    }\n",
       "\n",
       "    .dataframe tbody tr th {\n",
       "        vertical-align: top;\n",
       "    }\n",
       "\n",
       "    .dataframe thead th {\n",
       "        text-align: right;\n",
       "    }\n",
       "</style>\n",
       "<table border=\"1\" class=\"dataframe\">\n",
       "  <thead>\n",
       "    <tr style=\"text-align: right;\">\n",
       "      <th></th>\n",
       "      <th>name</th>\n",
       "      <th>code</th>\n",
       "      <th>gender</th>\n",
       "      <th>wgt</th>\n",
       "    </tr>\n",
       "  </thead>\n",
       "  <tbody>\n",
       "    <tr>\n",
       "      <th>0</th>\n",
       "      <td>\"baby\"</td>\n",
       "      <td>AU</td>\n",
       "      <td>F</td>\n",
       "      <td>1.000000</td>\n",
       "    </tr>\n",
       "    <tr>\n",
       "      <th>1</th>\n",
       "      <td>'aisyah</td>\n",
       "      <td>AU</td>\n",
       "      <td>F</td>\n",
       "      <td>1.000000</td>\n",
       "    </tr>\n",
       "    <tr>\n",
       "      <th>2</th>\n",
       "      <td>'anela</td>\n",
       "      <td>CA</td>\n",
       "      <td>F</td>\n",
       "      <td>1.000000</td>\n",
       "    </tr>\n",
       "    <tr>\n",
       "      <th>3</th>\n",
       "      <td>'fiyinfoluwa</td>\n",
       "      <td>CA</td>\n",
       "      <td>F</td>\n",
       "      <td>1.000000</td>\n",
       "    </tr>\n",
       "    <tr>\n",
       "      <th>4</th>\n",
       "      <td>'olioni</td>\n",
       "      <td>AU</td>\n",
       "      <td>M</td>\n",
       "      <td>1.000000</td>\n",
       "    </tr>\n",
       "    <tr>\n",
       "      <th>5</th>\n",
       "      <td>'piaf'</td>\n",
       "      <td>AU</td>\n",
       "      <td>F</td>\n",
       "      <td>1.000000</td>\n",
       "    </tr>\n",
       "    <tr>\n",
       "      <th>6</th>\n",
       "      <td>'s</td>\n",
       "      <td>BE</td>\n",
       "      <td>F</td>\n",
       "      <td>1.000000</td>\n",
       "    </tr>\n",
       "    <tr>\n",
       "      <th>7</th>\n",
       "      <td>'true</td>\n",
       "      <td>GB</td>\n",
       "      <td>F</td>\n",
       "      <td>1.000000</td>\n",
       "    </tr>\n",
       "    <tr>\n",
       "      <th>8</th>\n",
       "      <td>'uheina-'i-langima'a</td>\n",
       "      <td>AU</td>\n",
       "      <td>F</td>\n",
       "      <td>1.000000</td>\n",
       "    </tr>\n",
       "    <tr>\n",
       "      <th>9</th>\n",
       "      <td>.alexandra</td>\n",
       "      <td>CA</td>\n",
       "      <td>F</td>\n",
       "      <td>1.000000</td>\n",
       "    </tr>\n",
       "    <tr>\n",
       "      <th>10</th>\n",
       "      <td>a</td>\n",
       "      <td>AU</td>\n",
       "      <td>M</td>\n",
       "      <td>1.000000</td>\n",
       "    </tr>\n",
       "    <tr>\n",
       "      <th>11</th>\n",
       "      <td>a</td>\n",
       "      <td>BE</td>\n",
       "      <td>F</td>\n",
       "      <td>0.348178</td>\n",
       "    </tr>\n",
       "    <tr>\n",
       "      <th>12</th>\n",
       "      <td>a</td>\n",
       "      <td>BE</td>\n",
       "      <td>M</td>\n",
       "      <td>0.651822</td>\n",
       "    </tr>\n",
       "    <tr>\n",
       "      <th>13</th>\n",
       "      <td>a</td>\n",
       "      <td>CA</td>\n",
       "      <td>F</td>\n",
       "      <td>0.214286</td>\n",
       "    </tr>\n",
       "    <tr>\n",
       "      <th>14</th>\n",
       "      <td>a</td>\n",
       "      <td>CA</td>\n",
       "      <td>M</td>\n",
       "      <td>0.785714</td>\n",
       "    </tr>\n",
       "    <tr>\n",
       "      <th>15</th>\n",
       "      <td>a</td>\n",
       "      <td>CN</td>\n",
       "      <td>F</td>\n",
       "      <td>0.285714</td>\n",
       "    </tr>\n",
       "    <tr>\n",
       "      <th>16</th>\n",
       "      <td>a</td>\n",
       "      <td>CN</td>\n",
       "      <td>M</td>\n",
       "      <td>0.714286</td>\n",
       "    </tr>\n",
       "    <tr>\n",
       "      <th>17</th>\n",
       "      <td>a</td>\n",
       "      <td>GB</td>\n",
       "      <td>M</td>\n",
       "      <td>1.000000</td>\n",
       "    </tr>\n",
       "    <tr>\n",
       "      <th>18</th>\n",
       "      <td>a a</td>\n",
       "      <td>CN</td>\n",
       "      <td>F</td>\n",
       "      <td>0.166667</td>\n",
       "    </tr>\n",
       "    <tr>\n",
       "      <th>19</th>\n",
       "      <td>a a</td>\n",
       "      <td>CN</td>\n",
       "      <td>M</td>\n",
       "      <td>0.833333</td>\n",
       "    </tr>\n",
       "  </tbody>\n",
       "</table>\n",
       "</div>"
      ],
      "text/plain": [
       "                    name code gender       wgt\n",
       "0                 \"baby\"   AU      F  1.000000\n",
       "1                'aisyah   AU      F  1.000000\n",
       "2                 'anela   CA      F  1.000000\n",
       "3           'fiyinfoluwa   CA      F  1.000000\n",
       "4                'olioni   AU      M  1.000000\n",
       "5                 'piaf'   AU      F  1.000000\n",
       "6                     's   BE      F  1.000000\n",
       "7                  'true   GB      F  1.000000\n",
       "8   'uheina-'i-langima'a   AU      F  1.000000\n",
       "9             .alexandra   CA      F  1.000000\n",
       "10                     a   AU      M  1.000000\n",
       "11                     a   BE      F  0.348178\n",
       "12                     a   BE      M  0.651822\n",
       "13                     a   CA      F  0.214286\n",
       "14                     a   CA      M  0.785714\n",
       "15                     a   CN      F  0.285714\n",
       "16                     a   CN      M  0.714286\n",
       "17                     a   GB      M  1.000000\n",
       "18                   a a   CN      F  0.166667\n",
       "19                   a a   CN      M  0.833333"
      ]
     },
     "execution_count": 8,
     "metadata": {},
     "output_type": "execute_result"
    }
   ],
   "source": [
    "df.head(20)"
   ]
  },
  {
   "cell_type": "markdown",
   "id": "4040a904",
   "metadata": {},
   "source": [
    "### Check data"
   ]
  },
  {
   "cell_type": "code",
   "execution_count": 9,
   "id": "17098c58",
   "metadata": {},
   "outputs": [
    {
     "data": {
      "text/plain": [
       "(4577590, 4)"
      ]
     },
     "execution_count": 9,
     "metadata": {},
     "output_type": "execute_result"
    }
   ],
   "source": [
    "df.shape"
   ]
  },
  {
   "cell_type": "code",
   "execution_count": 10,
   "id": "8da675e9",
   "metadata": {},
   "outputs": [
    {
     "data": {
      "text/html": [
       "<div>\n",
       "<style scoped>\n",
       "    .dataframe tbody tr th:only-of-type {\n",
       "        vertical-align: middle;\n",
       "    }\n",
       "\n",
       "    .dataframe tbody tr th {\n",
       "        vertical-align: top;\n",
       "    }\n",
       "\n",
       "    .dataframe thead th {\n",
       "        text-align: right;\n",
       "    }\n",
       "</style>\n",
       "<table border=\"1\" class=\"dataframe\">\n",
       "  <thead>\n",
       "    <tr style=\"text-align: right;\">\n",
       "      <th></th>\n",
       "      <th>name</th>\n",
       "      <th>code</th>\n",
       "      <th>gender</th>\n",
       "      <th>wgt</th>\n",
       "    </tr>\n",
       "  </thead>\n",
       "  <tbody>\n",
       "    <tr>\n",
       "      <th>159181</th>\n",
       "      <td>andrea</td>\n",
       "      <td>AG</td>\n",
       "      <td>F</td>\n",
       "      <td>1.00000</td>\n",
       "    </tr>\n",
       "    <tr>\n",
       "      <th>159182</th>\n",
       "      <td>andrea</td>\n",
       "      <td>AL</td>\n",
       "      <td>F</td>\n",
       "      <td>0.50000</td>\n",
       "    </tr>\n",
       "    <tr>\n",
       "      <th>159183</th>\n",
       "      <td>andrea</td>\n",
       "      <td>AL</td>\n",
       "      <td>M</td>\n",
       "      <td>0.50000</td>\n",
       "    </tr>\n",
       "    <tr>\n",
       "      <th>159184</th>\n",
       "      <td>andrea</td>\n",
       "      <td>AT</td>\n",
       "      <td>F</td>\n",
       "      <td>1.00000</td>\n",
       "    </tr>\n",
       "    <tr>\n",
       "      <th>159185</th>\n",
       "      <td>andrea</td>\n",
       "      <td>AU</td>\n",
       "      <td>F</td>\n",
       "      <td>0.93062</td>\n",
       "    </tr>\n",
       "    <tr>\n",
       "      <th>...</th>\n",
       "      <td>...</td>\n",
       "      <td>...</td>\n",
       "      <td>...</td>\n",
       "      <td>...</td>\n",
       "    </tr>\n",
       "    <tr>\n",
       "      <th>159263</th>\n",
       "      <td>andrea</td>\n",
       "      <td>VU</td>\n",
       "      <td>F</td>\n",
       "      <td>1.00000</td>\n",
       "    </tr>\n",
       "    <tr>\n",
       "      <th>159264</th>\n",
       "      <td>andrea</td>\n",
       "      <td>WS</td>\n",
       "      <td>F</td>\n",
       "      <td>1.00000</td>\n",
       "    </tr>\n",
       "    <tr>\n",
       "      <th>159265</th>\n",
       "      <td>andrea</td>\n",
       "      <td>ZA</td>\n",
       "      <td>F</td>\n",
       "      <td>1.00000</td>\n",
       "    </tr>\n",
       "    <tr>\n",
       "      <th>159266</th>\n",
       "      <td>andrea</td>\n",
       "      <td>ZM</td>\n",
       "      <td>F</td>\n",
       "      <td>1.00000</td>\n",
       "    </tr>\n",
       "    <tr>\n",
       "      <th>159267</th>\n",
       "      <td>andrea</td>\n",
       "      <td>ZW</td>\n",
       "      <td>F</td>\n",
       "      <td>1.00000</td>\n",
       "    </tr>\n",
       "  </tbody>\n",
       "</table>\n",
       "<p>87 rows × 4 columns</p>\n",
       "</div>"
      ],
      "text/plain": [
       "          name code gender      wgt\n",
       "159181  andrea   AG      F  1.00000\n",
       "159182  andrea   AL      F  0.50000\n",
       "159183  andrea   AL      M  0.50000\n",
       "159184  andrea   AT      F  1.00000\n",
       "159185  andrea   AU      F  0.93062\n",
       "...        ...  ...    ...      ...\n",
       "159263  andrea   VU      F  1.00000\n",
       "159264  andrea   WS      F  1.00000\n",
       "159265  andrea   ZA      F  1.00000\n",
       "159266  andrea   ZM      F  1.00000\n",
       "159267  andrea   ZW      F  1.00000\n",
       "\n",
       "[87 rows x 4 columns]"
      ]
     },
     "execution_count": 10,
     "metadata": {},
     "output_type": "execute_result"
    }
   ],
   "source": [
    "df[df[\"name\"] == \"andrea\"]"
   ]
  },
  {
   "cell_type": "code",
   "execution_count": 11,
   "id": "436c94a4",
   "metadata": {},
   "outputs": [
    {
     "name": "stderr",
     "output_type": "stream",
     "text": [
      "/tmp/ipykernel_28871/2025503541.py:1: FutureWarning: The default value of numeric_only in DataFrameGroupBy.sum is deprecated. In a future version, numeric_only will default to False. Either specify numeric_only or select only columns which should be valid for the function.\n",
      "  df[df[\"name\"] == \"andrea\"].groupby(\"gender\").sum()\n"
     ]
    },
    {
     "data": {
      "text/html": [
       "<div>\n",
       "<style scoped>\n",
       "    .dataframe tbody tr th:only-of-type {\n",
       "        vertical-align: middle;\n",
       "    }\n",
       "\n",
       "    .dataframe tbody tr th {\n",
       "        vertical-align: top;\n",
       "    }\n",
       "\n",
       "    .dataframe thead th {\n",
       "        text-align: right;\n",
       "    }\n",
       "</style>\n",
       "<table border=\"1\" class=\"dataframe\">\n",
       "  <thead>\n",
       "    <tr style=\"text-align: right;\">\n",
       "      <th></th>\n",
       "      <th>wgt</th>\n",
       "    </tr>\n",
       "    <tr>\n",
       "      <th>gender</th>\n",
       "      <th></th>\n",
       "    </tr>\n",
       "  </thead>\n",
       "  <tbody>\n",
       "    <tr>\n",
       "      <th>F</th>\n",
       "      <td>73.771014</td>\n",
       "    </tr>\n",
       "    <tr>\n",
       "      <th>M</th>\n",
       "      <td>3.228986</td>\n",
       "    </tr>\n",
       "  </tbody>\n",
       "</table>\n",
       "</div>"
      ],
      "text/plain": [
       "              wgt\n",
       "gender           \n",
       "F       73.771014\n",
       "M        3.228986"
      ]
     },
     "execution_count": 11,
     "metadata": {},
     "output_type": "execute_result"
    }
   ],
   "source": [
    "df[df[\"name\"] == \"andrea\"].groupby(\"gender\").sum()"
   ]
  },
  {
   "cell_type": "markdown",
   "id": "1e6a4bea",
   "metadata": {},
   "source": [
    "## Add country-names and regions"
   ]
  },
  {
   "cell_type": "code",
   "execution_count": 70,
   "id": "e9d6a495",
   "metadata": {},
   "outputs": [],
   "source": [
    "path_cc = os.path.join(\"..\",\"raw_data\",\"country-code\",\"all-country-codes_continent_subregion.csv\")"
   ]
  },
  {
   "cell_type": "code",
   "execution_count": 98,
   "id": "864e3b7b",
   "metadata": {},
   "outputs": [
    {
     "data": {
      "text/html": [
       "<div>\n",
       "<style scoped>\n",
       "    .dataframe tbody tr th:only-of-type {\n",
       "        vertical-align: middle;\n",
       "    }\n",
       "\n",
       "    .dataframe tbody tr th {\n",
       "        vertical-align: top;\n",
       "    }\n",
       "\n",
       "    .dataframe thead th {\n",
       "        text-align: right;\n",
       "    }\n",
       "</style>\n",
       "<table border=\"1\" class=\"dataframe\">\n",
       "  <thead>\n",
       "    <tr style=\"text-align: right;\">\n",
       "      <th></th>\n",
       "      <th>name</th>\n",
       "      <th>alpha-2</th>\n",
       "      <th>alpha-3</th>\n",
       "      <th>country-code</th>\n",
       "      <th>iso_3166-2</th>\n",
       "      <th>region</th>\n",
       "      <th>sub-region</th>\n",
       "      <th>intermediate-region</th>\n",
       "      <th>region-code</th>\n",
       "      <th>sub-region-code</th>\n",
       "      <th>intermediate-region-code</th>\n",
       "    </tr>\n",
       "  </thead>\n",
       "  <tbody>\n",
       "    <tr>\n",
       "      <th>0</th>\n",
       "      <td>Afghanistan</td>\n",
       "      <td>AF</td>\n",
       "      <td>AFG</td>\n",
       "      <td>4</td>\n",
       "      <td>ISO 3166-2:AF</td>\n",
       "      <td>Asia</td>\n",
       "      <td>Southern Asia</td>\n",
       "      <td>NaN</td>\n",
       "      <td>142.0</td>\n",
       "      <td>34.0</td>\n",
       "      <td>NaN</td>\n",
       "    </tr>\n",
       "    <tr>\n",
       "      <th>1</th>\n",
       "      <td>Åland Islands</td>\n",
       "      <td>AX</td>\n",
       "      <td>ALA</td>\n",
       "      <td>248</td>\n",
       "      <td>ISO 3166-2:AX</td>\n",
       "      <td>Europe</td>\n",
       "      <td>Northern Europe</td>\n",
       "      <td>NaN</td>\n",
       "      <td>150.0</td>\n",
       "      <td>154.0</td>\n",
       "      <td>NaN</td>\n",
       "    </tr>\n",
       "    <tr>\n",
       "      <th>2</th>\n",
       "      <td>Albania</td>\n",
       "      <td>AL</td>\n",
       "      <td>ALB</td>\n",
       "      <td>8</td>\n",
       "      <td>ISO 3166-2:AL</td>\n",
       "      <td>Europe</td>\n",
       "      <td>Southern Europe</td>\n",
       "      <td>NaN</td>\n",
       "      <td>150.0</td>\n",
       "      <td>39.0</td>\n",
       "      <td>NaN</td>\n",
       "    </tr>\n",
       "    <tr>\n",
       "      <th>3</th>\n",
       "      <td>Algeria</td>\n",
       "      <td>DZ</td>\n",
       "      <td>DZA</td>\n",
       "      <td>12</td>\n",
       "      <td>ISO 3166-2:DZ</td>\n",
       "      <td>Africa</td>\n",
       "      <td>Northern Africa</td>\n",
       "      <td>NaN</td>\n",
       "      <td>2.0</td>\n",
       "      <td>15.0</td>\n",
       "      <td>NaN</td>\n",
       "    </tr>\n",
       "  </tbody>\n",
       "</table>\n",
       "</div>"
      ],
      "text/plain": [
       "            name alpha-2 alpha-3  country-code     iso_3166-2  region  \\\n",
       "0    Afghanistan      AF     AFG             4  ISO 3166-2:AF    Asia   \n",
       "1  Åland Islands      AX     ALA           248  ISO 3166-2:AX  Europe   \n",
       "2        Albania      AL     ALB             8  ISO 3166-2:AL  Europe   \n",
       "3        Algeria      DZ     DZA            12  ISO 3166-2:DZ  Africa   \n",
       "\n",
       "        sub-region intermediate-region  region-code  sub-region-code  \\\n",
       "0    Southern Asia                 NaN        142.0             34.0   \n",
       "1  Northern Europe                 NaN        150.0            154.0   \n",
       "2  Southern Europe                 NaN        150.0             39.0   \n",
       "3  Northern Africa                 NaN          2.0             15.0   \n",
       "\n",
       "   intermediate-region-code  \n",
       "0                       NaN  \n",
       "1                       NaN  \n",
       "2                       NaN  \n",
       "3                       NaN  "
      ]
     },
     "execution_count": 98,
     "metadata": {},
     "output_type": "execute_result"
    }
   ],
   "source": [
    "cc_all = pd.read_csv(path_cc, sep=\",\")\n",
    "cc_all.head(4)"
   ]
  },
  {
   "cell_type": "code",
   "execution_count": 72,
   "id": "5c1c53a2",
   "metadata": {},
   "outputs": [],
   "source": [
    "cc_short = cc_all[[\"alpha-2\", \"name\", \"region\", \"sub-region\"]].copy()"
   ]
  },
  {
   "cell_type": "code",
   "execution_count": 79,
   "id": "6240c0fd",
   "metadata": {},
   "outputs": [
    {
     "data": {
      "text/html": [
       "<div>\n",
       "<style scoped>\n",
       "    .dataframe tbody tr th:only-of-type {\n",
       "        vertical-align: middle;\n",
       "    }\n",
       "\n",
       "    .dataframe tbody tr th {\n",
       "        vertical-align: top;\n",
       "    }\n",
       "\n",
       "    .dataframe thead th {\n",
       "        text-align: right;\n",
       "    }\n",
       "</style>\n",
       "<table border=\"1\" class=\"dataframe\">\n",
       "  <thead>\n",
       "    <tr style=\"text-align: right;\">\n",
       "      <th></th>\n",
       "      <th>alpha-2</th>\n",
       "      <th>country</th>\n",
       "      <th>region</th>\n",
       "      <th>sub-region</th>\n",
       "    </tr>\n",
       "  </thead>\n",
       "  <tbody>\n",
       "    <tr>\n",
       "      <th>0</th>\n",
       "      <td>AF</td>\n",
       "      <td>Afghanistan</td>\n",
       "      <td>Asia</td>\n",
       "      <td>Southern Asia</td>\n",
       "    </tr>\n",
       "    <tr>\n",
       "      <th>1</th>\n",
       "      <td>AX</td>\n",
       "      <td>Åland Islands</td>\n",
       "      <td>Europe</td>\n",
       "      <td>Northern Europe</td>\n",
       "    </tr>\n",
       "    <tr>\n",
       "      <th>2</th>\n",
       "      <td>AL</td>\n",
       "      <td>Albania</td>\n",
       "      <td>Europe</td>\n",
       "      <td>Southern Europe</td>\n",
       "    </tr>\n",
       "    <tr>\n",
       "      <th>3</th>\n",
       "      <td>DZ</td>\n",
       "      <td>Algeria</td>\n",
       "      <td>Africa</td>\n",
       "      <td>Northern Africa</td>\n",
       "    </tr>\n",
       "    <tr>\n",
       "      <th>4</th>\n",
       "      <td>AS</td>\n",
       "      <td>American Samoa</td>\n",
       "      <td>Oceania</td>\n",
       "      <td>Polynesia</td>\n",
       "    </tr>\n",
       "    <tr>\n",
       "      <th>...</th>\n",
       "      <td>...</td>\n",
       "      <td>...</td>\n",
       "      <td>...</td>\n",
       "      <td>...</td>\n",
       "    </tr>\n",
       "    <tr>\n",
       "      <th>247</th>\n",
       "      <td>WF</td>\n",
       "      <td>Wallis and Futuna</td>\n",
       "      <td>Oceania</td>\n",
       "      <td>Polynesia</td>\n",
       "    </tr>\n",
       "    <tr>\n",
       "      <th>248</th>\n",
       "      <td>EH</td>\n",
       "      <td>Western Sahara</td>\n",
       "      <td>Africa</td>\n",
       "      <td>Northern Africa</td>\n",
       "    </tr>\n",
       "    <tr>\n",
       "      <th>249</th>\n",
       "      <td>YE</td>\n",
       "      <td>Yemen</td>\n",
       "      <td>Asia</td>\n",
       "      <td>Western Asia</td>\n",
       "    </tr>\n",
       "    <tr>\n",
       "      <th>250</th>\n",
       "      <td>ZM</td>\n",
       "      <td>Zambia</td>\n",
       "      <td>Africa</td>\n",
       "      <td>Sub-Saharan Africa</td>\n",
       "    </tr>\n",
       "    <tr>\n",
       "      <th>251</th>\n",
       "      <td>ZW</td>\n",
       "      <td>Zimbabwe</td>\n",
       "      <td>Africa</td>\n",
       "      <td>Sub-Saharan Africa</td>\n",
       "    </tr>\n",
       "  </tbody>\n",
       "</table>\n",
       "<p>252 rows × 4 columns</p>\n",
       "</div>"
      ],
      "text/plain": [
       "    alpha-2            country   region          sub-region\n",
       "0        AF        Afghanistan     Asia       Southern Asia\n",
       "1        AX      Åland Islands   Europe     Northern Europe\n",
       "2        AL            Albania   Europe     Southern Europe\n",
       "3        DZ            Algeria   Africa     Northern Africa\n",
       "4        AS     American Samoa  Oceania           Polynesia\n",
       "..      ...                ...      ...                 ...\n",
       "247      WF  Wallis and Futuna  Oceania           Polynesia\n",
       "248      EH     Western Sahara   Africa     Northern Africa\n",
       "249      YE              Yemen     Asia        Western Asia\n",
       "250      ZM             Zambia   Africa  Sub-Saharan Africa\n",
       "251      ZW           Zimbabwe   Africa  Sub-Saharan Africa\n",
       "\n",
       "[252 rows x 4 columns]"
      ]
     },
     "execution_count": 79,
     "metadata": {},
     "output_type": "execute_result"
    }
   ],
   "source": [
    "cc_short"
   ]
  },
  {
   "cell_type": "code",
   "execution_count": 80,
   "id": "0cfd35a2",
   "metadata": {},
   "outputs": [],
   "source": [
    "cc_short.rename(columns={\"name\":\"country\"}, inplace=True)"
   ]
  },
  {
   "cell_type": "code",
   "execution_count": null,
   "id": "7cfb9da3",
   "metadata": {},
   "outputs": [],
   "source": []
  },
  {
   "cell_type": "code",
   "execution_count": 81,
   "id": "4a1b10d6",
   "metadata": {},
   "outputs": [],
   "source": [
    "df.rename(columns={\"code\":\"alpha-2\" }, inplace=True)"
   ]
  },
  {
   "cell_type": "code",
   "execution_count": 82,
   "id": "a8edddb7",
   "metadata": {},
   "outputs": [],
   "source": [
    "data = pd.merge(df, cc_short, how=\"left\", on=\"alpha-2\")"
   ]
  },
  {
   "cell_type": "code",
   "execution_count": 83,
   "id": "97a4c76b",
   "metadata": {},
   "outputs": [
    {
     "data": {
      "text/html": [
       "<div>\n",
       "<style scoped>\n",
       "    .dataframe tbody tr th:only-of-type {\n",
       "        vertical-align: middle;\n",
       "    }\n",
       "\n",
       "    .dataframe tbody tr th {\n",
       "        vertical-align: top;\n",
       "    }\n",
       "\n",
       "    .dataframe thead th {\n",
       "        text-align: right;\n",
       "    }\n",
       "</style>\n",
       "<table border=\"1\" class=\"dataframe\">\n",
       "  <thead>\n",
       "    <tr style=\"text-align: right;\">\n",
       "      <th></th>\n",
       "      <th>name</th>\n",
       "      <th>alpha-2</th>\n",
       "      <th>gender</th>\n",
       "      <th>wgt</th>\n",
       "      <th>country</th>\n",
       "      <th>region</th>\n",
       "      <th>sub-region</th>\n",
       "    </tr>\n",
       "  </thead>\n",
       "  <tbody>\n",
       "    <tr>\n",
       "      <th>0</th>\n",
       "      <td>\"baby\"</td>\n",
       "      <td>AU</td>\n",
       "      <td>F</td>\n",
       "      <td>1.0</td>\n",
       "      <td>Australia</td>\n",
       "      <td>Oceania</td>\n",
       "      <td>Australia and New Zealand</td>\n",
       "    </tr>\n",
       "    <tr>\n",
       "      <th>1</th>\n",
       "      <td>'aisyah</td>\n",
       "      <td>AU</td>\n",
       "      <td>F</td>\n",
       "      <td>1.0</td>\n",
       "      <td>Australia</td>\n",
       "      <td>Oceania</td>\n",
       "      <td>Australia and New Zealand</td>\n",
       "    </tr>\n",
       "    <tr>\n",
       "      <th>2</th>\n",
       "      <td>'anela</td>\n",
       "      <td>CA</td>\n",
       "      <td>F</td>\n",
       "      <td>1.0</td>\n",
       "      <td>Canada</td>\n",
       "      <td>Americas</td>\n",
       "      <td>Northern America</td>\n",
       "    </tr>\n",
       "    <tr>\n",
       "      <th>3</th>\n",
       "      <td>'fiyinfoluwa</td>\n",
       "      <td>CA</td>\n",
       "      <td>F</td>\n",
       "      <td>1.0</td>\n",
       "      <td>Canada</td>\n",
       "      <td>Americas</td>\n",
       "      <td>Northern America</td>\n",
       "    </tr>\n",
       "    <tr>\n",
       "      <th>4</th>\n",
       "      <td>'olioni</td>\n",
       "      <td>AU</td>\n",
       "      <td>M</td>\n",
       "      <td>1.0</td>\n",
       "      <td>Australia</td>\n",
       "      <td>Oceania</td>\n",
       "      <td>Australia and New Zealand</td>\n",
       "    </tr>\n",
       "  </tbody>\n",
       "</table>\n",
       "</div>"
      ],
      "text/plain": [
       "           name alpha-2 gender  wgt    country    region  \\\n",
       "0        \"baby\"      AU      F  1.0  Australia   Oceania   \n",
       "1       'aisyah      AU      F  1.0  Australia   Oceania   \n",
       "2        'anela      CA      F  1.0     Canada  Americas   \n",
       "3  'fiyinfoluwa      CA      F  1.0     Canada  Americas   \n",
       "4       'olioni      AU      M  1.0  Australia   Oceania   \n",
       "\n",
       "                  sub-region  \n",
       "0  Australia and New Zealand  \n",
       "1  Australia and New Zealand  \n",
       "2           Northern America  \n",
       "3           Northern America  \n",
       "4  Australia and New Zealand  "
      ]
     },
     "execution_count": 83,
     "metadata": {},
     "output_type": "execute_result"
    }
   ],
   "source": [
    "data.head()"
   ]
  },
  {
   "cell_type": "code",
   "execution_count": 110,
   "id": "573cd938",
   "metadata": {},
   "outputs": [
    {
     "data": {
      "text/plain": [
       "array(['Oceania', 'Americas', 'Europe', 'Asia', 'Africa'], dtype=object)"
      ]
     },
     "execution_count": 110,
     "metadata": {},
     "output_type": "execute_result"
    }
   ],
   "source": [
    "data[\"region\"].unique()"
   ]
  },
  {
   "cell_type": "code",
   "execution_count": 87,
   "id": "fea004e8",
   "metadata": {},
   "outputs": [
    {
     "data": {
      "text/plain": [
       "array(['??'], dtype=object)"
      ]
     },
     "execution_count": 87,
     "metadata": {},
     "output_type": "execute_result"
    }
   ],
   "source": [
    "data[data[\"country\"].isnull()][\"alpha-2\"].unique()"
   ]
  },
  {
   "cell_type": "code",
   "execution_count": 88,
   "id": "e679f2b5",
   "metadata": {},
   "outputs": [],
   "source": [
    "data = data[data[\"alpha-2\"] != \"??\"]"
   ]
  },
  {
   "cell_type": "code",
   "execution_count": 99,
   "id": "928e751a",
   "metadata": {
    "scrolled": true
   },
   "outputs": [
    {
     "data": {
      "text/html": [
       "<div>\n",
       "<style scoped>\n",
       "    .dataframe tbody tr th:only-of-type {\n",
       "        vertical-align: middle;\n",
       "    }\n",
       "\n",
       "    .dataframe tbody tr th {\n",
       "        vertical-align: top;\n",
       "    }\n",
       "\n",
       "    .dataframe thead th {\n",
       "        text-align: right;\n",
       "    }\n",
       "</style>\n",
       "<table border=\"1\" class=\"dataframe\">\n",
       "  <thead>\n",
       "    <tr style=\"text-align: right;\">\n",
       "      <th></th>\n",
       "      <th>name</th>\n",
       "      <th>alpha-2</th>\n",
       "      <th>gender</th>\n",
       "      <th>wgt</th>\n",
       "      <th>country</th>\n",
       "      <th>region</th>\n",
       "      <th>sub-region</th>\n",
       "    </tr>\n",
       "  </thead>\n",
       "  <tbody>\n",
       "    <tr>\n",
       "      <th>0</th>\n",
       "      <td>\"baby\"</td>\n",
       "      <td>AU</td>\n",
       "      <td>F</td>\n",
       "      <td>1.0</td>\n",
       "      <td>Australia</td>\n",
       "      <td>Oceania</td>\n",
       "      <td>Australia and New Zealand</td>\n",
       "    </tr>\n",
       "    <tr>\n",
       "      <th>1</th>\n",
       "      <td>'aisyah</td>\n",
       "      <td>AU</td>\n",
       "      <td>F</td>\n",
       "      <td>1.0</td>\n",
       "      <td>Australia</td>\n",
       "      <td>Oceania</td>\n",
       "      <td>Australia and New Zealand</td>\n",
       "    </tr>\n",
       "    <tr>\n",
       "      <th>2</th>\n",
       "      <td>'anela</td>\n",
       "      <td>CA</td>\n",
       "      <td>F</td>\n",
       "      <td>1.0</td>\n",
       "      <td>Canada</td>\n",
       "      <td>Americas</td>\n",
       "      <td>Northern America</td>\n",
       "    </tr>\n",
       "    <tr>\n",
       "      <th>3</th>\n",
       "      <td>'fiyinfoluwa</td>\n",
       "      <td>CA</td>\n",
       "      <td>F</td>\n",
       "      <td>1.0</td>\n",
       "      <td>Canada</td>\n",
       "      <td>Americas</td>\n",
       "      <td>Northern America</td>\n",
       "    </tr>\n",
       "    <tr>\n",
       "      <th>4</th>\n",
       "      <td>'olioni</td>\n",
       "      <td>AU</td>\n",
       "      <td>M</td>\n",
       "      <td>1.0</td>\n",
       "      <td>Australia</td>\n",
       "      <td>Oceania</td>\n",
       "      <td>Australia and New Zealand</td>\n",
       "    </tr>\n",
       "  </tbody>\n",
       "</table>\n",
       "</div>"
      ],
      "text/plain": [
       "           name alpha-2 gender  wgt    country    region  \\\n",
       "0        \"baby\"      AU      F  1.0  Australia   Oceania   \n",
       "1       'aisyah      AU      F  1.0  Australia   Oceania   \n",
       "2        'anela      CA      F  1.0     Canada  Americas   \n",
       "3  'fiyinfoluwa      CA      F  1.0     Canada  Americas   \n",
       "4       'olioni      AU      M  1.0  Australia   Oceania   \n",
       "\n",
       "                  sub-region  \n",
       "0  Australia and New Zealand  \n",
       "1  Australia and New Zealand  \n",
       "2           Northern America  \n",
       "3           Northern America  \n",
       "4  Australia and New Zealand  "
      ]
     },
     "execution_count": 99,
     "metadata": {},
     "output_type": "execute_result"
    }
   ],
   "source": [
    "data.head()"
   ]
  },
  {
   "cell_type": "code",
   "execution_count": 100,
   "id": "1527e06d",
   "metadata": {},
   "outputs": [
    {
     "data": {
      "text/plain": [
       "array(['Oceania', 'Americas', 'Europe', 'Asia', 'Africa'], dtype=object)"
      ]
     },
     "execution_count": 100,
     "metadata": {},
     "output_type": "execute_result"
    }
   ],
   "source": [
    "data[\"region\"].unique()"
   ]
  },
  {
   "cell_type": "code",
   "execution_count": 116,
   "id": "d2b5cfe9",
   "metadata": {},
   "outputs": [],
   "source": []
  },
  {
   "cell_type": "code",
   "execution_count": 265,
   "id": "92888f58",
   "metadata": {},
   "outputs": [],
   "source": [
    "def share_male_female(result):\n",
    "    male = 0\n",
    "    female = 0\n",
    "    # Make a list out of the grouped table results\n",
    "    result_list = []\n",
    "    try: result_list.append([\"M\", result[\"M\"] ])\n",
    "    except: pass\n",
    "    try: result_list.append([\"F\", result[\"F\"] ])\n",
    "    except: pass\n",
    "\n",
    "    # Calculate percentage results\n",
    "    for res in result_list:\n",
    "        if res[0] == \"M\":\n",
    "            male = res[1]\n",
    "        elif res[0] == \"F\":\n",
    "            female = res[1]\n",
    "        male_p = round(male*100/(male+female),2)\n",
    "        female_p = round(female*100/(female+male),2)\n",
    "\n",
    "    return male_p, female_p"
   ]
  },
  {
   "cell_type": "code",
   "execution_count": null,
   "id": "e62ab667",
   "metadata": {},
   "outputs": [],
   "source": []
  },
  {
   "cell_type": "code",
   "execution_count": 266,
   "id": "c7851a4c",
   "metadata": {},
   "outputs": [],
   "source": [
    "def precit_from_data(name, country, continent):\n",
    "    if name and country:\n",
    "        print(\"name and country\")\n",
    "        df_name = data[(data[\"name\"] == name.lower()) & (data[\"country\"] == country)].groupby(\"gender\")[\"wgt\"].sum()\n",
    "    elif name and continent:\n",
    "        print(\"name and continent\")\n",
    "        df_name = data[(data[\"name\"] == name.lower()) & (data[\"region\"] == continent)].groupby(\"gender\")[\"wgt\"].sum()\n",
    "    elif name:\n",
    "        print(\"name\")\n",
    "        df_name = data[data[\"name\"] == \"andrea\"].groupby(\"gender\")[\"wgt\"].sum()\n",
    "    else:\n",
    "        print(\"no data given\")\n",
    "        \n",
    "    male_p, female_p = share_male_female(df_name)\n",
    "    return male_p, female_p\n",
    "        "
   ]
  },
  {
   "cell_type": "code",
   "execution_count": null,
   "id": "72ed11ce",
   "metadata": {},
   "outputs": [],
   "source": []
  },
  {
   "cell_type": "code",
   "execution_count": 267,
   "id": "3e95b6ab",
   "metadata": {},
   "outputs": [],
   "source": [
    "\n",
    "name = \"Dieter\"\n",
    "country = \"Germany\"\n",
    "continent = None"
   ]
  },
  {
   "cell_type": "code",
   "execution_count": 269,
   "id": "49722aa4",
   "metadata": {},
   "outputs": [
    {
     "name": "stdout",
     "output_type": "stream",
     "text": [
      "name and country\n",
      "Male: 100.0 %\n",
      "Female: 0.0 %\n"
     ]
    }
   ],
   "source": [
    "male_p, female_p = precit_from_data(name, country, continent)\n",
    "print(f\"Male: {male_p} %\")\n",
    "print(f\"Female: {female_p} %\")"
   ]
  },
  {
   "cell_type": "code",
   "execution_count": 187,
   "id": "a1333a35",
   "metadata": {},
   "outputs": [
    {
     "data": {
      "text/plain": [
       "0"
      ]
     },
     "execution_count": 187,
     "metadata": {},
     "output_type": "execute_result"
    }
   ],
   "source": [
    "femal_p"
   ]
  },
  {
   "cell_type": "code",
   "execution_count": 191,
   "id": "7f841e6f",
   "metadata": {},
   "outputs": [
    {
     "data": {
      "text/plain": [
       "{'M': 1.0}"
      ]
     },
     "execution_count": 191,
     "metadata": {},
     "output_type": "execute_result"
    }
   ],
   "source": []
  },
  {
   "cell_type": "code",
   "execution_count": null,
   "id": "9e6cadce",
   "metadata": {},
   "outputs": [],
   "source": [
    "# name and continent"
   ]
  },
  {
   "cell_type": "code",
   "execution_count": null,
   "id": "74da8a92",
   "metadata": {},
   "outputs": [],
   "source": [
    "data[(data[\"name\"] == \"dieter\") & (data[\"region\"] == \"Europe\")].groupby(\"gender\")[\"wgt\"].sum()"
   ]
  },
  {
   "cell_type": "code",
   "execution_count": 158,
   "id": "d06a7267",
   "metadata": {},
   "outputs": [],
   "source": []
  },
  {
   "cell_type": "code",
   "execution_count": 164,
   "id": "dda330e8",
   "metadata": {},
   "outputs": [
    {
     "data": {
      "text/plain": [
       "745824    1.0\n",
       "Name: wgt, dtype: float64"
      ]
     },
     "execution_count": 164,
     "metadata": {},
     "output_type": "execute_result"
    }
   ],
   "source": []
  },
  {
   "cell_type": "code",
   "execution_count": 115,
   "id": "d9933722",
   "metadata": {},
   "outputs": [
    {
     "data": {
      "text/html": [
       "<div>\n",
       "<style scoped>\n",
       "    .dataframe tbody tr th:only-of-type {\n",
       "        vertical-align: middle;\n",
       "    }\n",
       "\n",
       "    .dataframe tbody tr th {\n",
       "        vertical-align: top;\n",
       "    }\n",
       "\n",
       "    .dataframe thead th {\n",
       "        text-align: right;\n",
       "    }\n",
       "</style>\n",
       "<table border=\"1\" class=\"dataframe\">\n",
       "  <thead>\n",
       "    <tr style=\"text-align: right;\">\n",
       "      <th></th>\n",
       "      <th>name</th>\n",
       "      <th>alpha-2</th>\n",
       "      <th>gender</th>\n",
       "      <th>wgt</th>\n",
       "      <th>country</th>\n",
       "      <th>region</th>\n",
       "      <th>sub-region</th>\n",
       "    </tr>\n",
       "  </thead>\n",
       "  <tbody>\n",
       "    <tr>\n",
       "      <th>745819</th>\n",
       "      <td>dieter</td>\n",
       "      <td>AT</td>\n",
       "      <td>M</td>\n",
       "      <td>1.0</td>\n",
       "      <td>Austria</td>\n",
       "      <td>Europe</td>\n",
       "      <td>Western Europe</td>\n",
       "    </tr>\n",
       "    <tr>\n",
       "      <th>745821</th>\n",
       "      <td>dieter</td>\n",
       "      <td>BE</td>\n",
       "      <td>M</td>\n",
       "      <td>1.0</td>\n",
       "      <td>Belgium</td>\n",
       "      <td>Europe</td>\n",
       "      <td>Western Europe</td>\n",
       "    </tr>\n",
       "    <tr>\n",
       "      <th>745823</th>\n",
       "      <td>dieter</td>\n",
       "      <td>CH</td>\n",
       "      <td>M</td>\n",
       "      <td>1.0</td>\n",
       "      <td>Switzerland</td>\n",
       "      <td>Europe</td>\n",
       "      <td>Western Europe</td>\n",
       "    </tr>\n",
       "    <tr>\n",
       "      <th>745824</th>\n",
       "      <td>dieter</td>\n",
       "      <td>DE</td>\n",
       "      <td>M</td>\n",
       "      <td>1.0</td>\n",
       "      <td>Germany</td>\n",
       "      <td>Europe</td>\n",
       "      <td>Western Europe</td>\n",
       "    </tr>\n",
       "    <tr>\n",
       "      <th>745825</th>\n",
       "      <td>dieter</td>\n",
       "      <td>ES</td>\n",
       "      <td>M</td>\n",
       "      <td>1.0</td>\n",
       "      <td>Spain</td>\n",
       "      <td>Europe</td>\n",
       "      <td>Southern Europe</td>\n",
       "    </tr>\n",
       "  </tbody>\n",
       "</table>\n",
       "</div>"
      ],
      "text/plain": [
       "          name alpha-2 gender  wgt      country  region       sub-region\n",
       "745819  dieter      AT      M  1.0      Austria  Europe   Western Europe\n",
       "745821  dieter      BE      M  1.0      Belgium  Europe   Western Europe\n",
       "745823  dieter      CH      M  1.0  Switzerland  Europe   Western Europe\n",
       "745824  dieter      DE      M  1.0      Germany  Europe   Western Europe\n",
       "745825  dieter      ES      M  1.0        Spain  Europe  Southern Europe"
      ]
     },
     "execution_count": 115,
     "metadata": {},
     "output_type": "execute_result"
    }
   ],
   "source": []
  },
  {
   "cell_type": "code",
   "execution_count": 108,
   "id": "361d0492",
   "metadata": {},
   "outputs": [
    {
     "data": {
      "text/plain": [
       "gender\n",
       "F    1.835673\n",
       "M    6.164327\n",
       "Name: wgt, dtype: float64"
      ]
     },
     "execution_count": 108,
     "metadata": {},
     "output_type": "execute_result"
    }
   ],
   "source": [
    "prediction = test_name.groupby(\"gender\")[\"wgt\"].sum()\n",
    "prediction"
   ]
  },
  {
   "cell_type": "code",
   "execution_count": 138,
   "id": "35d689a1",
   "metadata": {},
   "outputs": [
    {
     "data": {
      "text/plain": [
       "6.1643269599999995"
      ]
     },
     "execution_count": 138,
     "metadata": {},
     "output_type": "execute_result"
    }
   ],
   "source": [
    "prediction[\"M\"]"
   ]
  },
  {
   "cell_type": "code",
   "execution_count": null,
   "id": "d8787360",
   "metadata": {},
   "outputs": [],
   "source": []
  }
 ],
 "metadata": {
  "kernelspec": {
   "display_name": "Python 3 (ipykernel)",
   "language": "python",
   "name": "python3"
  },
  "language_info": {
   "codemirror_mode": {
    "name": "ipython",
    "version": 3
   },
   "file_extension": ".py",
   "mimetype": "text/x-python",
   "name": "python",
   "nbconvert_exporter": "python",
   "pygments_lexer": "ipython3",
   "version": "3.8.12"
  },
  "toc": {
   "base_numbering": 1,
   "nav_menu": {},
   "number_sections": true,
   "sideBar": true,
   "skip_h1_title": false,
   "title_cell": "Table of Contents",
   "title_sidebar": "Contents",
   "toc_cell": false,
   "toc_position": {},
   "toc_section_display": true,
   "toc_window_display": false
  }
 },
 "nbformat": 4,
 "nbformat_minor": 5
}
